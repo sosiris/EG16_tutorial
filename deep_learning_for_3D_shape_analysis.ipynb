{
 "cells": [
  {
   "cell_type": "markdown",
   "metadata": {
    "deletable": true,
    "editable": true
   },
   "source": [
    "# Prerequisites\n",
    "Install Theano and Lasagne using the following commands:\n",
    "\n",
    "```bash\n",
    "pip install -r https://raw.githubusercontent.com/Lasagne/Lasagne/master/requirements.txt\n",
    "pip install https://github.com/Lasagne/Lasagne/archive/master.zip\n",
    "```\n",
    "\n",
    "Working in a virtual environment is recommended."
   ]
  },
  {
   "cell_type": "markdown",
   "metadata": {
    "deletable": true,
    "editable": true
   },
   "source": [
    "# Data preparation\n",
    "\n",
    "Current code allows to generate geodesic patches from a collection of shapes represented as triangular meshes.\n",
    "To get started with the pre-processing:\n",
    "```\n",
    "git clone https://github.com/jonathanmasci/ShapeNet_data_preparation_toolbox.git\n",
    "```\n",
    "\n",
    "The usual processing pipeline is show in ```run_forrest_run.m```. \n",
    "We will soon update this preparation stage, so perhaps better to start with our pre-computed dataset, and stay tuned! :-)"
   ]
  },
  {
   "cell_type": "markdown",
   "metadata": {
    "deletable": true,
    "editable": true
   },
   "source": [
    "## Prepared data\n",
    "\n",
    "All it is required to train on the FAUST_registration dataset for this demo is available for download at\n",
    "https://www.dropbox.com/s/aamd98nynkvbcop/EG16_tutorial.tar.bz2?dl=0"
   ]
  },
  {
   "cell_type": "markdown",
   "metadata": {
    "deletable": true,
    "editable": true
   },
   "source": [
    "# ICNN Toolbox\n",
    "\n",
    "```bash\n",
    "git clone https://github.com/sosiris/TAU16_seminar.git\n",
    "```\n",
    "\n",
    "![](http://www.people.usi.ch/mascij/EG16_tutorial/shapenet_architecture.png)"
   ]
  },
  {
   "cell_type": "code",
   "execution_count": 1,
   "metadata": {
    "collapsed": false,
    "deletable": true,
    "editable": true,
    "scrolled": true
   },
   "outputs": [
    {
     "name": "stderr",
     "output_type": "stream",
     "text": [
      "WARNING (theano.sandbox.cuda): The cuda backend is deprecated and will be removed in the next release (v0.10).  Please switch to the gpuarray backend. You can get more information about how to switch at this URL:\n",
      " https://github.com/Theano/Theano/wiki/Converting-to-the-new-gpu-back-end%28gpuarray%29\n",
      "\n",
      "Using gpu device 0: GeForce GTX 1080 (CNMeM is enabled with initial size: 70.0% of memory, cuDNN 5105)\n"
     ]
    }
   ],
   "source": [
    "import sys\n",
    "import os\n",
    "import numpy as np\n",
    "import scipy.io\n",
    "import time\n",
    "\n",
    "import theano\n",
    "import theano.tensor as T\n",
    "import theano.sparse as Tsp\n",
    "\n",
    "import lasagne as L\n",
    "import lasagne.layers as LL\n",
    "import lasagne.objectives as LO\n",
    "import lasagne.nonlinearities as LN\n",
    "from lasagne.layers.normalization import batch_norm\n",
    "\n",
    "sys.path.append('..')\n",
    "from icnn import utils_lasagne, dataset, snapshotter"
   ]
  },
  {
   "cell_type": "markdown",
   "metadata": {
    "deletable": true,
    "editable": true
   },
   "source": [
    "## Data loading"
   ]
  },
  {
   "cell_type": "code",
   "execution_count": 2,
   "metadata": {
    "collapsed": false,
    "deletable": true,
    "editable": true,
    "scrolled": true
   },
   "outputs": [
    {
     "name": "stdout",
     "output_type": "stream",
     "text": [
      "Loading train descs\n",
      "elapsed time 7.862000\n",
      "Loading test descs\n",
      "elapsed time 1.836000\n",
      "Loading train patches\n",
      "elapsed time 32.076000\n",
      "Loading test patches\n",
      "elapsed time 8.083000\n",
      "Loading train LB bases\n",
      "elapsed time 4.881000\n",
      "Loading test LB bases\n",
      "elapsed time 1.160000\n",
      "Loading train labels\n",
      "elapsed time 0.393000\n",
      "Loading test labels\n",
      "elapsed time 0.360000\n"
     ]
    }
   ],
   "source": [
    "reload(dataset)\n",
    "base_path = './dataset/FAUST_registrations/data/diam=200/'\n",
    "\n",
    "ds = dataset.ClassificationDatasetPatchesMinimal(\n",
    "    'FAUST_registrations_train.txt', 'FAUST_registrations_test.txt',\n",
    "    os.path.join(base_path, 'descs', 'shot'),\n",
    "    os.path.join(base_path, 'patch_aniso', 'alpha=100_nangles=016_ntvals=005_tmin=6.000_tmax=24.000_thresh=99.900_norm=L1'), \n",
    "    None, \n",
    "    os.path.join(base_path, 'lbo'),\n",
    "    os.path.join(base_path, 'labels'),\n",
    "    epoch_size=50)"
   ]
  },
  {
   "cell_type": "code",
   "execution_count": 3,
   "metadata": {
    "collapsed": false,
    "deletable": true,
    "editable": true
   },
   "outputs": [
    {
     "name": "stdout",
     "output_type": "stream",
     "text": [
      "(6890L, 544L)\n",
      "(551200, 6890)\n",
      "(6890L, 100L)\n",
      "(6890L,)\n"
     ]
    }
   ],
   "source": [
    "x_ = ds.train_iter().next()\n",
    "for i_ in x_:\n",
    "    print(i_.shape)"
   ]
  },
  {
   "cell_type": "markdown",
   "metadata": {
    "deletable": true,
    "editable": true
   },
   "source": [
    "## Network definition"
   ]
  },
  {
   "cell_type": "code",
   "execution_count": 18,
   "metadata": {
    "collapsed": false,
    "deletable": true,
    "editable": true,
    "scrolled": false
   },
   "outputs": [],
   "source": [
    "reload(utils_lasagne)\n",
    "nin = 544\n",
    "nclasses = 6890\n",
    "l2_weight = 1e-5\n",
    "c_weight = 1e-5\n",
    "ref_lbo = ds.train_lbo[0]\n",
    "\n",
    "def get_model(inp, patch_op, lb_op):\n",
    "    icnn = LL.DenseLayer(inp, 16)\n",
    "    icnn = batch_norm(utils_lasagne.GCNNLayer([icnn, patch_op], 16, nrings=5, nrays=16))\n",
    "    icnn = batch_norm(utils_lasagne.GCNNLayer([icnn, patch_op], 32, nrings=5, nrays=16))\n",
    "    icnn = batch_norm(utils_lasagne.GCNNLayer([icnn, patch_op], 64, nrings=5, nrays=16))\n",
    "    icnn = utils_lasagne.FMAPLayer([icnn, lb_op], ref_lbo=ref_lbo, neigen=30, nonlinearity=LN.rectify)\n",
    "    ffn = batch_norm(LL.DenseLayer(icnn, 512))\n",
    "    ffn = LL.DenseLayer(ffn, nclasses, nonlinearity=utils_lasagne.log_softmax)\n",
    "    \n",
    "    return ffn\n",
    "\n",
    "inp = LL.InputLayer(shape=(None, nin))\n",
    "patch_op = LL.InputLayer(input_var=Tsp.csc_fmatrix('patch_op'), shape=(None, None))\n",
    "lb_op = LL.InputLayer(input_var=T.matrix('lb_op'), shape=(None, None))\n",
    "\n",
    "ffn = get_model(inp, patch_op, lb_op)\n",
    "\n",
    "# L.layers.get_output -> theano variable representing network\n",
    "output = LL.get_output(ffn)\n",
    "# print(LL.get_output_shape(ffn))\n",
    "pred = LL.get_output(ffn, deterministic=True)  # in case we use dropout\n",
    "\n",
    "# target theano variable indicatind the index a vertex should be mapped to wrt the latent space\n",
    "target = T.ivector('idxs')\n",
    "\n",
    "# to work with logit predictions, better behaved numerically\n",
    "cla = utils_lasagne.categorical_crossentropy_logdomain(output, target, nclasses).mean()\n",
    "acc = LO.categorical_accuracy(pred, target).mean()\n",
    "\n",
    "# a bit of regularization is commonly used\n",
    "regL2 = L.regularization.regularize_network_params(ffn, L.regularization.l2)\n",
    "\n",
    "cost = cla + l2_weight * regL2"
   ]
  },
  {
   "cell_type": "markdown",
   "metadata": {
    "deletable": true,
    "editable": true
   },
   "source": [
    "## Define the update rule, how to train"
   ]
  },
  {
   "cell_type": "code",
   "execution_count": 19,
   "metadata": {
    "collapsed": false,
    "deletable": true,
    "editable": true
   },
   "outputs": [],
   "source": [
    "params = LL.get_all_params(ffn, trainable=True)\n",
    "grads = T.grad(cost, params)\n",
    "# computes the L2 norm of the gradient to better inspect training\n",
    "grads_norm = T.nlinalg.norm(T.concatenate([g.flatten() for g in grads]), 2)\n",
    "\n",
    "# Adam turned out to be a very good choice for correspondence\n",
    "updates = L.updates.adam(grads, params, learning_rate=0.001)"
   ]
  },
  {
   "cell_type": "markdown",
   "metadata": {
    "deletable": true,
    "editable": true
   },
   "source": [
    "## Compile"
   ]
  },
  {
   "cell_type": "code",
   "execution_count": 20,
   "metadata": {
    "collapsed": false,
    "deletable": true,
    "editable": true,
    "scrolled": false
   },
   "outputs": [],
   "source": [
    "funcs = dict()\n",
    "funcs['train'] = theano.function([inp.input_var, patch_op.input_var, lb_op.input_var, target],\n",
    "                                 [cost, cla, l2_weight * regL2, grads_norm, acc], updates=updates,\n",
    "                                 on_unused_input='warn')\n",
    "funcs['acc_loss'] = theano.function([inp.input_var, patch_op.input_var, lb_op.input_var, target],\n",
    "                                    [acc, cost], on_unused_input='warn')\n",
    "funcs['predict'] = theano.function([inp.input_var, patch_op.input_var, lb_op.input_var],\n",
    "                                   [pred], on_unused_input='warn')"
   ]
  },
  {
   "cell_type": "markdown",
   "metadata": {
    "deletable": true,
    "editable": true
   },
   "source": [
    "# Training (a bit simplified)"
   ]
  },
  {
   "cell_type": "code",
   "execution_count": 21,
   "metadata": {
    "collapsed": false,
    "deletable": true,
    "editable": true,
    "scrolled": false
   },
   "outputs": [
    {
     "name": "stdout",
     "output_type": "stream",
     "text": [
      "[Epoch 000][trn] cost  6.873190 (cla 6.8450, reg 0.0282), |grad| = 2.119329, acc = 0.30537 % (80.38sec)\n",
      "           [tst] cost  5.760905, acc = 1.78955 %\n"
     ]
    },
    {
     "name": "stderr",
     "output_type": "stream",
     "text": [
      "ERROR:root:[KVP] Overwriting group best_train_params!\n",
      "ERROR:root:[KVP] Overwriting group best_test_params!\n"
     ]
    },
    {
     "name": "stdout",
     "output_type": "stream",
     "text": [
      "[Epoch 001][trn] cost  5.244570 (cla 5.1907, reg 0.0539), |grad| = 3.157475, acc = 2.11669 % (82.00sec)\n",
      "           [tst] cost  4.906517, acc = 4.63933 %\n"
     ]
    },
    {
     "name": "stderr",
     "output_type": "stream",
     "text": [
      "ERROR:root:[KVP] Overwriting group best_train_params!\n",
      "ERROR:root:[KVP] Overwriting group best_test_params!\n"
     ]
    },
    {
     "name": "stdout",
     "output_type": "stream",
     "text": [
      "[Epoch 002][trn] cost  4.672543 (cla 4.5968, reg 0.0758), |grad| = 4.021481, acc = 3.82061 % (82.85sec)\n",
      "           [tst] cost  4.534321, acc = 6.42525 %\n"
     ]
    },
    {
     "name": "stderr",
     "output_type": "stream",
     "text": [
      "ERROR:root:[KVP] Overwriting group best_train_params!\n",
      "ERROR:root:[KVP] Overwriting group best_test_params!\n"
     ]
    },
    {
     "name": "stdout",
     "output_type": "stream",
     "text": [
      "[Epoch 003][trn] cost  4.330263 (cla 4.2359, reg 0.0944), |grad| = 3.895582, acc = 5.82409 % (81.47sec)\n",
      "           [tst] cost  4.333935, acc = 7.03193 %\n"
     ]
    },
    {
     "name": "stderr",
     "output_type": "stream",
     "text": [
      "ERROR:root:[KVP] Overwriting group best_train_params!\n",
      "ERROR:root:[KVP] Overwriting group best_test_params!\n"
     ]
    },
    {
     "name": "stdout",
     "output_type": "stream",
     "text": [
      "[Epoch 004][trn] cost  4.047684 (cla 3.9367, reg 0.1110), |grad| = 3.449924, acc = 8.06618 % (82.34sec)\n",
      "           [tst] cost  4.068491, acc = 9.22061 %\n"
     ]
    },
    {
     "name": "stderr",
     "output_type": "stream",
     "text": [
      "ERROR:root:[KVP] Overwriting group best_train_params!\n",
      "ERROR:root:[KVP] Overwriting group best_test_params!\n"
     ]
    },
    {
     "name": "stdout",
     "output_type": "stream",
     "text": [
      "[Epoch 005][trn] cost  3.870052 (cla 3.7437, reg 0.1263), |grad| = 3.988380, acc = 9.73208 % (82.44sec)\n",
      "           [tst] cost  3.978802, acc = 9.48041 %\n"
     ]
    },
    {
     "name": "stderr",
     "output_type": "stream",
     "text": [
      "ERROR:root:[KVP] Overwriting group best_train_params!\n",
      "ERROR:root:[KVP] Overwriting group best_test_params!\n"
     ]
    },
    {
     "name": "stdout",
     "output_type": "stream",
     "text": [
      "[Epoch 006][trn] cost  3.798682 (cla 3.6586, reg 0.1401), |grad| = 4.440437, acc = 10.98897 % (82.42sec)\n",
      "           [tst] cost  3.893208, acc = 11.13062 %\n"
     ]
    },
    {
     "name": "stderr",
     "output_type": "stream",
     "text": [
      "ERROR:root:[KVP] Overwriting group best_train_params!\n",
      "ERROR:root:[KVP] Overwriting group best_test_params!\n"
     ]
    },
    {
     "name": "stdout",
     "output_type": "stream",
     "text": [
      "[Epoch 007][trn] cost  3.686954 (cla 3.5350, reg 0.1520), |grad| = 4.181703, acc = 11.53817 % (81.94sec)\n",
      "           [tst] cost  3.786226, acc = 11.26705 %\n"
     ]
    },
    {
     "name": "stderr",
     "output_type": "stream",
     "text": [
      "ERROR:root:[KVP] Overwriting group best_train_params!\n",
      "ERROR:root:[KVP] Overwriting group best_test_params!\n"
     ]
    },
    {
     "name": "stdout",
     "output_type": "stream",
     "text": [
      "[Epoch 008][trn] cost  3.587821 (cla 3.4246, reg 0.1632), |grad| = 3.975122, acc = 12.81800 % (82.09sec)\n",
      "           [tst] cost  3.726285, acc = 12.77866 %\n"
     ]
    },
    {
     "name": "stderr",
     "output_type": "stream",
     "text": [
      "ERROR:root:[KVP] Overwriting group best_train_params!\n",
      "ERROR:root:[KVP] Overwriting group best_test_params!\n"
     ]
    },
    {
     "name": "stdout",
     "output_type": "stream",
     "text": [
      "[Epoch 009][trn] cost  3.491401 (cla 3.3179, reg 0.1735), |grad| = 4.126286, acc = 15.20900 % (82.32sec)\n",
      "           [tst] cost  3.623140, acc = 13.53628 %\n"
     ]
    },
    {
     "name": "stderr",
     "output_type": "stream",
     "text": [
      "ERROR:root:[KVP] Overwriting group best_train_params!\n",
      "ERROR:root:[KVP] Overwriting group best_test_params!\n"
     ]
    },
    {
     "name": "stdout",
     "output_type": "stream",
     "text": [
      "[Epoch 010][trn] cost  3.416481 (cla 3.2332, reg 0.1832), |grad| = 4.042032, acc = 16.09550 % (82.03sec)\n",
      "           [tst] cost  3.602599, acc = 14.16255 %\n"
     ]
    },
    {
     "name": "stderr",
     "output_type": "stream",
     "text": [
      "ERROR:root:[KVP] Overwriting group best_train_params!\n",
      "ERROR:root:[KVP] Overwriting group best_test_params!\n"
     ]
    },
    {
     "name": "stdout",
     "output_type": "stream",
     "text": [
      "[Epoch 011][trn] cost  3.351040 (cla 3.1586, reg 0.1924), |grad| = 4.348856, acc = 17.48650 % (82.41sec)\n",
      "           [tst] cost  3.508412, acc = 16.04427 %\n"
     ]
    },
    {
     "name": "stderr",
     "output_type": "stream",
     "text": [
      "ERROR:root:[KVP] Overwriting group best_train_params!\n",
      "ERROR:root:[KVP] Overwriting group best_test_params!\n"
     ]
    },
    {
     "name": "stdout",
     "output_type": "stream",
     "text": [
      "[Epoch 012][trn] cost  3.313877 (cla 3.1133, reg 0.2006), |grad| = 4.323190, acc = 16.76081 % (81.72sec)\n",
      "           [tst] cost  3.494900, acc = 15.87300 %\n"
     ]
    },
    {
     "name": "stderr",
     "output_type": "stream",
     "text": [
      "ERROR:root:[KVP] Overwriting group best_train_params!\n",
      "ERROR:root:[KVP] Overwriting group best_test_params!\n"
     ]
    },
    {
     "name": "stdout",
     "output_type": "stream",
     "text": [
      "[Epoch 013][trn] cost  3.284585 (cla 3.0763, reg 0.2083), |grad| = 4.561584, acc = 16.93904 % (82.24sec)\n",
      "           [tst] cost  3.482939, acc = 14.50653 %\n"
     ]
    },
    {
     "name": "stderr",
     "output_type": "stream",
     "text": [
      "ERROR:root:[KVP] Overwriting group best_train_params!\n",
      "ERROR:root:[KVP] Overwriting group best_test_params!\n"
     ]
    },
    {
     "name": "stdout",
     "output_type": "stream",
     "text": [
      "[Epoch 014][trn] cost  3.228716 (cla 3.0138, reg 0.2150), |grad| = 4.489471, acc = 18.39942 % (82.10sec)\n",
      "           [tst] cost  3.429123, acc = 15.75036 %\n"
     ]
    },
    {
     "name": "stderr",
     "output_type": "stream",
     "text": [
      "ERROR:root:[KVP] Overwriting group best_train_params!\n",
      "ERROR:root:[KVP] Overwriting group best_test_params!\n"
     ]
    },
    {
     "name": "stdout",
     "output_type": "stream",
     "text": [
      "[Epoch 015][trn] cost  3.158973 (cla 2.9374, reg 0.2216), |grad| = 4.458701, acc = 20.27257 % (81.46sec)\n",
      "           [tst] cost  3.368045, acc = 16.77141 %\n"
     ]
    },
    {
     "name": "stderr",
     "output_type": "stream",
     "text": [
      "ERROR:root:[KVP] Overwriting group best_train_params!\n",
      "ERROR:root:[KVP] Overwriting group best_test_params!\n"
     ]
    },
    {
     "name": "stdout",
     "output_type": "stream",
     "text": [
      "[Epoch 016][trn] cost  3.115602 (cla 2.8878, reg 0.2278), |grad| = 4.235088, acc = 20.48534 % (81.38sec)\n",
      "           [tst] cost  3.337923, acc = 17.62990 %\n"
     ]
    },
    {
     "name": "stderr",
     "output_type": "stream",
     "text": [
      "ERROR:root:[KVP] Overwriting group best_train_params!\n",
      "ERROR:root:[KVP] Overwriting group best_test_params!\n"
     ]
    },
    {
     "name": "stdout",
     "output_type": "stream",
     "text": [
      "[Epoch 017][trn] cost  3.071634 (cla 2.8380, reg 0.2336), |grad| = 4.519544, acc = 22.88273 % (81.67sec)\n",
      "           [tst] cost  3.341722, acc = 17.06096 %\n"
     ]
    },
    {
     "name": "stderr",
     "output_type": "stream",
     "text": [
      "ERROR:root:[KVP] Overwriting group best_train_params!\n"
     ]
    },
    {
     "name": "stdout",
     "output_type": "stream",
     "text": [
      "[Epoch 018][trn] cost  3.014154 (cla 2.7753, reg 0.2389), |grad| = 4.254790, acc = 24.03164 % (81.50sec)\n",
      "           [tst] cost  3.289085, acc = 18.76270 %\n"
     ]
    },
    {
     "name": "stderr",
     "output_type": "stream",
     "text": [
      "ERROR:root:[KVP] Overwriting group best_train_params!\n",
      "ERROR:root:[KVP] Overwriting group best_test_params!\n"
     ]
    },
    {
     "name": "stdout",
     "output_type": "stream",
     "text": [
      "[Epoch 019][trn] cost  3.012456 (cla 2.7686, reg 0.2438), |grad| = 4.526325, acc = 22.73498 % (82.24sec)\n",
      "           [tst] cost  3.216943, acc = 19.54862 %\n"
     ]
    },
    {
     "name": "stderr",
     "output_type": "stream",
     "text": [
      "ERROR:root:[KVP] Overwriting group best_train_params!\n",
      "ERROR:root:[KVP] Overwriting group best_test_params!\n"
     ]
    },
    {
     "name": "stdout",
     "output_type": "stream",
     "text": [
      "[Epoch 020][trn] cost  2.982481 (cla 2.7341, reg 0.2484), |grad| = 4.555437, acc = 23.10653 % (81.41sec)\n",
      "           [tst] cost  3.246779, acc = 20.10087 %\n"
     ]
    },
    {
     "name": "stderr",
     "output_type": "stream",
     "text": [
      "ERROR:root:[KVP] Overwriting group best_train_params!\n"
     ]
    },
    {
     "name": "stdout",
     "output_type": "stream",
     "text": [
      "[Epoch 021][trn] cost  2.904594 (cla 2.6520, reg 0.2526), |grad| = 4.304149, acc = 25.81742 % (82.17sec)\n",
      "           [tst] cost  3.225456, acc = 19.61248 %\n"
     ]
    },
    {
     "name": "stderr",
     "output_type": "stream",
     "text": [
      "ERROR:root:[KVP] Overwriting group best_train_params!\n"
     ]
    },
    {
     "name": "stdout",
     "output_type": "stream",
     "text": [
      "[Epoch 022][trn] cost  2.902122 (cla 2.6453, reg 0.2568), |grad| = 4.743093, acc = 24.55936 % (81.54sec)\n",
      "           [tst] cost  3.181820, acc = 20.79971 %\n"
     ]
    },
    {
     "name": "stderr",
     "output_type": "stream",
     "text": [
      "ERROR:root:[KVP] Overwriting group best_train_params!\n",
      "ERROR:root:[KVP] Overwriting group best_test_params!\n"
     ]
    },
    {
     "name": "stdout",
     "output_type": "stream",
     "text": [
      "[Epoch 023][trn] cost  2.885904 (cla 2.6254, reg 0.2605), |grad| = 4.772633, acc = 24.90914 % (82.05sec)\n",
      "           [tst] cost  3.216262, acc = 19.88244 %\n"
     ]
    },
    {
     "name": "stderr",
     "output_type": "stream",
     "text": [
      "ERROR:root:[KVP] Overwriting group best_train_params!\n"
     ]
    },
    {
     "name": "stdout",
     "output_type": "stream",
     "text": [
      "[Epoch 024][trn] cost  2.866249 (cla 2.6024, reg 0.2639), |grad| = 5.115793, acc = 25.57939 % (82.23sec)\n",
      "           [tst] cost  3.120436, acc = 21.72206 %\n"
     ]
    },
    {
     "name": "stderr",
     "output_type": "stream",
     "text": [
      "ERROR:root:[KVP] Overwriting group best_train_params!\n",
      "ERROR:root:[KVP] Overwriting group best_test_params!\n"
     ]
    },
    {
     "name": "stdout",
     "output_type": "stream",
     "text": [
      "[Epoch 025][trn] cost  2.839513 (cla 2.5729, reg 0.2666), |grad| = 5.108681, acc = 26.16778 % (82.15sec)\n",
      "           [tst] cost  3.125146, acc = 22.07184 %\n"
     ]
    },
    {
     "name": "stderr",
     "output_type": "stream",
     "text": [
      "ERROR:root:[KVP] Overwriting group best_train_params!\n"
     ]
    },
    {
     "name": "stdout",
     "output_type": "stream",
     "text": [
      "[Epoch 026][trn] cost  2.843883 (cla 2.5747, reg 0.2692), |grad| = 5.185552, acc = 25.02119 % (82.39sec)\n",
      "           [tst] cost  3.218034, acc = 19.74964 %\n",
      "[Epoch 027][trn] cost  2.784864 (cla 2.5132, reg 0.2716), |grad| = 4.866023, acc = 27.36517 % (81.02sec)\n",
      "           [tst] cost  3.079818, acc = 22.84035 %\n"
     ]
    },
    {
     "name": "stderr",
     "output_type": "stream",
     "text": [
      "ERROR:root:[KVP] Overwriting group best_train_params!\n",
      "ERROR:root:[KVP] Overwriting group best_test_params!\n"
     ]
    },
    {
     "name": "stdout",
     "output_type": "stream",
     "text": [
      "[Epoch 028][trn] cost  2.769056 (cla 2.4952, reg 0.2739), |grad| = 5.054144, acc = 28.32569 % (81.68sec)\n",
      "           [tst] cost  3.130459, acc = 20.75907 %\n"
     ]
    },
    {
     "name": "stderr",
     "output_type": "stream",
     "text": [
      "ERROR:root:[KVP] Overwriting group best_train_params!\n"
     ]
    },
    {
     "name": "stdout",
     "output_type": "stream",
     "text": [
      "[Epoch 029][trn] cost  2.764314 (cla 2.4886, reg 0.2757), |grad| = 5.130790, acc = 27.26734 % (82.07sec)\n",
      "           [tst] cost  3.076408, acc = 22.78157 %\n"
     ]
    },
    {
     "name": "stderr",
     "output_type": "stream",
     "text": [
      "ERROR:root:[KVP] Overwriting group best_train_params!\n",
      "ERROR:root:[KVP] Overwriting group best_test_params!\n"
     ]
    },
    {
     "name": "stdout",
     "output_type": "stream",
     "text": [
      "[Epoch 030][trn] cost  2.701303 (cla 2.4239, reg 0.2774), |grad| = 4.932462, acc = 29.57939 % (81.56sec)\n",
      "           [tst] cost  3.123868, acc = 21.62917 %\n"
     ]
    },
    {
     "name": "stderr",
     "output_type": "stream",
     "text": [
      "ERROR:root:[KVP] Overwriting group best_train_params!\n"
     ]
    },
    {
     "name": "stdout",
     "output_type": "stream",
     "text": [
      "[Epoch 031][trn] cost  2.690297 (cla 2.4110, reg 0.2793), |grad| = 4.964869, acc = 29.65718 % (81.61sec)\n",
      "           [tst] cost  3.039037, acc = 22.65965 %\n"
     ]
    },
    {
     "name": "stderr",
     "output_type": "stream",
     "text": [
      "ERROR:root:[KVP] Overwriting group best_train_params!\n",
      "ERROR:root:[KVP] Overwriting group best_test_params!\n"
     ]
    },
    {
     "name": "stdout",
     "output_type": "stream",
     "text": [
      "[Epoch 032][trn] cost  2.629781 (cla 2.3486, reg 0.2812), |grad| = 4.537930, acc = 31.25080 % (81.69sec)\n",
      "           [tst] cost  3.042845, acc = 23.30624 %\n"
     ]
    },
    {
     "name": "stderr",
     "output_type": "stream",
     "text": [
      "ERROR:root:[KVP] Overwriting group best_train_params!\n"
     ]
    },
    {
     "name": "stdout",
     "output_type": "stream",
     "text": [
      "[Epoch 033][trn] cost  2.655186 (cla 2.3720, reg 0.2832), |grad| = 5.379530, acc = 30.32279 % (81.74sec)\n",
      "           [tst] cost  3.100272, acc = 23.39695 %\n",
      "[Epoch 034][trn] cost  2.647138 (cla 2.3623, reg 0.2848), |grad| = 5.465799, acc = 30.80987 % (81.99sec)\n",
      "           [tst] cost  3.004144, acc = 23.97678 %\n"
     ]
    },
    {
     "name": "stderr",
     "output_type": "stream",
     "text": [
      "ERROR:root:[KVP] Overwriting group best_test_params!\n"
     ]
    },
    {
     "name": "stdout",
     "output_type": "stream",
     "text": [
      "[Epoch 035][trn] cost  2.596325 (cla 2.3102, reg 0.2861), |grad| = 4.906592, acc = 32.09086 % (81.72sec)\n",
      "           [tst] cost  3.042655, acc = 24.34688 %\n"
     ]
    },
    {
     "name": "stderr",
     "output_type": "stream",
     "text": [
      "ERROR:root:[KVP] Overwriting group best_train_params!\n"
     ]
    },
    {
     "name": "stdout",
     "output_type": "stream",
     "text": [
      "[Epoch 036][trn] cost  2.617696 (cla 2.3302, reg 0.2875), |grad| = 5.609805, acc = 31.81364 % (82.15sec)\n",
      "           [tst] cost  2.960973, acc = 23.80406 %\n"
     ]
    },
    {
     "name": "stderr",
     "output_type": "stream",
     "text": [
      "ERROR:root:[KVP] Overwriting group best_test_params!\n"
     ]
    },
    {
     "name": "stdout",
     "output_type": "stream",
     "text": [
      "[Epoch 037][trn] cost  2.589224 (cla 2.3008, reg 0.2884), |grad| = 5.633907, acc = 31.28853 % (81.81sec)\n",
      "           [tst] cost  2.970877, acc = 23.50000 %\n"
     ]
    },
    {
     "name": "stderr",
     "output_type": "stream",
     "text": [
      "ERROR:root:[KVP] Overwriting group best_train_params!\n"
     ]
    },
    {
     "name": "stdout",
     "output_type": "stream",
     "text": [
      "[Epoch 038][trn] cost  2.555826 (cla 2.2663, reg 0.2895), |grad| = 5.507414, acc = 31.55123 % (81.91sec)\n",
      "           [tst] cost  3.032350, acc = 24.64441 %\n"
     ]
    },
    {
     "name": "stderr",
     "output_type": "stream",
     "text": [
      "ERROR:root:[KVP] Overwriting group best_train_params!\n"
     ]
    },
    {
     "name": "stdout",
     "output_type": "stream",
     "text": [
      "[Epoch 039][trn] cost  2.533785 (cla 2.2433, reg 0.2905), |grad| = 5.091536, acc = 33.71843 % (82.39sec)\n",
      "           [tst] cost  2.945786, acc = 25.16473 %\n"
     ]
    },
    {
     "name": "stderr",
     "output_type": "stream",
     "text": [
      "ERROR:root:[KVP] Overwriting group best_train_params!\n",
      "ERROR:root:[KVP] Overwriting group best_test_params!\n"
     ]
    },
    {
     "name": "stdout",
     "output_type": "stream",
     "text": [
      "[Epoch 040][trn] cost  2.527621 (cla 2.2360, reg 0.2916), |grad| = 5.242673, acc = 32.75327 % (82.29sec)\n",
      "           [tst] cost  2.976526, acc = 25.58491 %\n"
     ]
    },
    {
     "name": "stderr",
     "output_type": "stream",
     "text": [
      "ERROR:root:[KVP] Overwriting group best_train_params!\n"
     ]
    },
    {
     "name": "stdout",
     "output_type": "stream",
     "text": [
      "[Epoch 041][trn] cost  2.488329 (cla 2.1956, reg 0.2928), |grad| = 5.026379, acc = 34.15007 % (82.18sec)\n",
      "           [tst] cost  2.983267, acc = 23.27068 %\n"
     ]
    },
    {
     "name": "stderr",
     "output_type": "stream",
     "text": [
      "ERROR:root:[KVP] Overwriting group best_train_params!\n"
     ]
    },
    {
     "name": "stdout",
     "output_type": "stream",
     "text": [
      "[Epoch 042][trn] cost  2.479244 (cla 2.1855, reg 0.2937), |grad| = 5.391111, acc = 34.79681 % (81.71sec)\n",
      "           [tst] cost  3.015388, acc = 24.86575 %\n"
     ]
    },
    {
     "name": "stderr",
     "output_type": "stream",
     "text": [
      "ERROR:root:[KVP] Overwriting group best_train_params!\n"
     ]
    },
    {
     "name": "stdout",
     "output_type": "stream",
     "text": [
      "[Epoch 043][trn] cost  2.492106 (cla 2.1976, reg 0.2945), |grad| = 5.509709, acc = 33.23570 % (82.47sec)\n",
      "           [tst] cost  2.965665, acc = 24.69086 %\n",
      "[Epoch 044][trn] cost  2.478913 (cla 2.1837, reg 0.2953), |grad| = 5.621222, acc = 32.53875 % (82.18sec)\n",
      "           [tst] cost  3.007291, acc = 25.26270 %\n"
     ]
    },
    {
     "name": "stderr",
     "output_type": "stream",
     "text": [
      "ERROR:root:[KVP] Overwriting group best_train_params!\n"
     ]
    },
    {
     "name": "stdout",
     "output_type": "stream",
     "text": [
      "[Epoch 045][trn] cost  2.455364 (cla 2.1594, reg 0.2959), |grad| = 5.509648, acc = 34.12221 % (82.52sec)\n",
      "           [tst] cost  2.932563, acc = 26.68142 %\n"
     ]
    },
    {
     "name": "stderr",
     "output_type": "stream",
     "text": [
      "ERROR:root:[KVP] Overwriting group best_train_params!\n",
      "ERROR:root:[KVP] Overwriting group best_test_params!\n"
     ]
    },
    {
     "name": "stdout",
     "output_type": "stream",
     "text": [
      "[Epoch 046][trn] cost  2.447770 (cla 2.1511, reg 0.2966), |grad| = 5.760698, acc = 35.45922 % (82.06sec)\n",
      "           [tst] cost  2.969086, acc = 24.53338 %\n"
     ]
    },
    {
     "name": "stderr",
     "output_type": "stream",
     "text": [
      "ERROR:root:[KVP] Overwriting group best_train_params!\n"
     ]
    },
    {
     "name": "stdout",
     "output_type": "stream",
     "text": [
      "[Epoch 047][trn] cost  2.446759 (cla 2.1497, reg 0.2971), |grad| = 6.177989, acc = 33.83774 % (82.25sec)\n",
      "           [tst] cost  2.918036, acc = 26.34906 %\n"
     ]
    },
    {
     "name": "stderr",
     "output_type": "stream",
     "text": [
      "ERROR:root:[KVP] Overwriting group best_train_params!\n",
      "ERROR:root:[KVP] Overwriting group best_test_params!\n"
     ]
    },
    {
     "name": "stdout",
     "output_type": "stream",
     "text": [
      "[Epoch 048][trn] cost  2.412531 (cla 2.1151, reg 0.2974), |grad| = 5.707231, acc = 34.53120 % (82.02sec)\n",
      "           [tst] cost  2.970243, acc = 23.79318 %\n"
     ]
    },
    {
     "name": "stderr",
     "output_type": "stream",
     "text": [
      "ERROR:root:[KVP] Overwriting group best_train_params!\n"
     ]
    },
    {
     "name": "stdout",
     "output_type": "stream",
     "text": [
      "[Epoch 049][trn] cost  2.411887 (cla 2.1142, reg 0.2977), |grad| = 5.829359, acc = 35.33295 % (81.96sec)\n",
      "           [tst] cost  2.955889, acc = 25.59869 %\n"
     ]
    },
    {
     "name": "stderr",
     "output_type": "stream",
     "text": [
      "ERROR:root:[KVP] Overwriting group best_train_params!\n"
     ]
    },
    {
     "name": "stdout",
     "output_type": "stream",
     "text": [
      "...done training 5227.599000\n"
     ]
    }
   ],
   "source": [
    "n_epochs = 50\n",
    "eval_freq = 1\n",
    "\n",
    "start_time = time.time()\n",
    "best_trn = 1e5\n",
    "best_tst = 1e5\n",
    "\n",
    "kvs = snapshotter.Snapshotter('demo_training.snap')\n",
    "\n",
    "for it_count in xrange(n_epochs):\n",
    "    tic = time.time()\n",
    "    b_l, b_c, b_s, b_r, b_g, b_a = [], [], [], [], [], []\n",
    "    for x_ in ds.train_iter():\n",
    "        tmp = funcs['train'](*x_)\n",
    "\n",
    "        # do some book keeping (store stuff for training curves etc)\n",
    "        b_l.append(tmp[0])\n",
    "        b_c.append(tmp[1])\n",
    "        b_r.append(tmp[2])\n",
    "        b_g.append(tmp[3])\n",
    "        b_a.append(tmp[4])\n",
    "    epoch_cost = np.asarray([np.mean(b_l), np.mean(b_c), np.mean(b_r), np.mean(b_g), np.mean(b_a)])\n",
    "    print(('[Epoch %03i][trn] cost %9.6f (cla %6.4f, reg %6.4f), |grad| = %.06f, acc = %7.5f %% (%.2fsec)') %\n",
    "                 (it_count, epoch_cost[0], epoch_cost[1], epoch_cost[2], epoch_cost[3], epoch_cost[4] * 100, \n",
    "                  time.time() - tic))\n",
    "\n",
    "    if np.isnan(epoch_cost[0]):\n",
    "        print(\"NaN in the loss function...let's stop here\")\n",
    "        break\n",
    "\n",
    "    if (it_count % eval_freq) == 0:\n",
    "        v_c, v_a = [], []\n",
    "        for x_ in ds.test_iter():\n",
    "            tmp = funcs['acc_loss'](*x_)\n",
    "            v_a.append(tmp[0])\n",
    "            v_c.append(tmp[1])\n",
    "        test_cost = [np.mean(v_c), np.mean(v_a)]\n",
    "        print(('           [tst] cost %9.6f, acc = %7.5f %%') % (test_cost[0], test_cost[1] * 100))\n",
    "\n",
    "        if epoch_cost[0] < best_trn:\n",
    "            kvs.store('best_train_params', [it_count, LL.get_all_param_values(ffn)])\n",
    "            best_trn = epoch_cost[0]\n",
    "        if test_cost[0] < best_tst:\n",
    "            kvs.store('best_test_params', [it_count, LL.get_all_param_values(ffn)])\n",
    "            best_tst = test_cost[0]\n",
    "print(\"...done training %f\" % (time.time() - start_time))"
   ]
  },
  {
   "cell_type": "markdown",
   "metadata": {
    "deletable": true,
    "editable": true
   },
   "source": [
    "# Test phase\n",
    "Now that the model is train it is enough to take the fwd function and apply it to new data."
   ]
  },
  {
   "cell_type": "code",
   "execution_count": 22,
   "metadata": {
    "collapsed": false,
    "deletable": true,
    "editable": true,
    "scrolled": false
   },
   "outputs": [
    {
     "name": "stdout",
     "output_type": "stream",
     "text": [
      "Saving output to: ./dumps/\n",
      "./dumps/tr_reg_080.mat , Acc: 21.21916 %\n",
      "./dumps/tr_reg_081.mat , Acc: 25.05080 %\n",
      "./dumps/tr_reg_082.mat , Acc: 25.99419 %\n",
      "./dumps/tr_reg_083.mat , Acc: 29.31785 %\n",
      "./dumps/tr_reg_084.mat , Acc: 23.12046 %\n",
      "./dumps/tr_reg_085.mat , Acc: 24.47025 %\n",
      "./dumps/tr_reg_086.mat , Acc: 19.57910 %\n",
      "./dumps/tr_reg_087.mat , Acc: 25.86357 %\n",
      "./dumps/tr_reg_088.mat , Acc: 29.15820 %\n",
      "./dumps/tr_reg_089.mat , Acc: 30.84180 %\n",
      "./dumps/tr_reg_090.mat , Acc: 32.49637 %\n",
      "./dumps/tr_reg_091.mat , Acc: 31.58200 %\n",
      "./dumps/tr_reg_092.mat , Acc: 28.38897 %\n",
      "./dumps/tr_reg_093.mat , Acc: 25.13788 %\n",
      "./dumps/tr_reg_094.mat , Acc: 27.80842 %\n",
      "./dumps/tr_reg_095.mat , Acc: 22.39478 %\n",
      "./dumps/tr_reg_096.mat , Acc: 28.43251 %\n",
      "./dumps/tr_reg_097.mat , Acc: 26.57475 %\n",
      "./dumps/tr_reg_098.mat , Acc: 28.99855 %\n",
      "./dumps/tr_reg_099.mat , Acc: 20.08708 %\n",
      "\n",
      "Average accuracy across all shapes: 26.32583 %\n"
     ]
    }
   ],
   "source": [
    "rewrite = True\n",
    "\n",
    "out_path = './dumps/' \n",
    "kvs.load('best_test_params')\n",
    "\n",
    "print \"Saving output to: %s\" % out_path\n",
    "\n",
    "if not os.path.isdir(out_path) or rewrite==True:\n",
    "    try:\n",
    "        os.makedirs(out_path)\n",
    "    except:\n",
    "        pass\n",
    "    \n",
    "    a = []\n",
    "    for i,d in enumerate(ds.test_iter()):\n",
    "        fname = os.path.join(out_path, \"%s\" % ds.test_fnames[i])\n",
    "        print fname,\n",
    "        tmp = funcs['predict'](d[0], d[1], d[2])[0]\n",
    "        a.append(np.mean(np.argmax(tmp, axis=1).flatten() == d[3].flatten()))\n",
    "        scipy.io.savemat(fname, {'desc': tmp})\n",
    "        print \", Acc: %7.5f %%\" % (a[-1] * 100.0)\n",
    "    print \"\\nAverage accuracy across all shapes: %7.5f %%\" % (np.mean(a) * 100.0)\n",
    "else:\n",
    "    print \"Model predictions already produced.\""
   ]
  },
  {
   "cell_type": "markdown",
   "metadata": {
    "deletable": true,
    "editable": true
   },
   "source": [
    "# Results"
   ]
  },
  {
   "cell_type": "markdown",
   "metadata": {
    "deletable": true,
    "editable": true
   },
   "source": [
    "![](http://www.people.usi.ch/mascij/EG16_tutorial/shapenet_corr.png)"
   ]
  }
 ],
 "metadata": {
  "kernelspec": {
   "display_name": "lasagne",
   "language": "python",
   "name": "lasagne"
  },
  "language_info": {
   "codemirror_mode": {
    "name": "ipython",
    "version": 2
   },
   "file_extension": ".py",
   "mimetype": "text/x-python",
   "name": "python",
   "nbconvert_exporter": "python",
   "pygments_lexer": "ipython2",
   "version": "2.7.13"
  }
 },
 "nbformat": 4,
 "nbformat_minor": 0
}
